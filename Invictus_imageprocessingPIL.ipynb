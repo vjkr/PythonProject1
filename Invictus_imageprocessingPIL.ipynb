{
  "nbformat": 4,
  "nbformat_minor": 0,
  "metadata": {
    "colab": {
      "provenance": [],
      "include_colab_link": true
    },
    "kernelspec": {
      "name": "python3",
      "display_name": "Python 3"
    },
    "language_info": {
      "name": "python"
    }
  },
  "cells": [
    {
      "cell_type": "markdown",
      "metadata": {
        "id": "view-in-github",
        "colab_type": "text"
      },
      "source": [
        "<a href=\"https://colab.research.google.com/github/vjkr/PythonProject1/blob/main/Invictus_imageprocessingPIL.ipynb\" target=\"_parent\"><img src=\"https://colab.research.google.com/assets/colab-badge.svg\" alt=\"Open In Colab\"/></a>"
      ]
    },
    {
      "cell_type": "code",
      "source": [
        "!git clone https://github.com/vjkr/PythonProject1.git"
      ],
      "metadata": {
        "colab": {
          "base_uri": "https://localhost:8080/"
        },
        "id": "2u9IOkv_Xwzk",
        "outputId": "6a5a3b46-9256-4f9b-84ca-f22fda10888b"
      },
      "execution_count": 6,
      "outputs": [
        {
          "output_type": "stream",
          "name": "stdout",
          "text": [
            "fatal: destination path 'PythonProject1' already exists and is not an empty directory.\n"
          ]
        }
      ]
    },
    {
      "cell_type": "code",
      "source": [
        "from PIL import Image\n",
        "\n",
        "# Opening the primary image (used in background)\n",
        "img1 = Image.open(r\"/content/PythonProject1/Invictus.jpeg\")\n",
        "\n",
        "# Opening the secondary image (overlay image)\n",
        "img2 = Image.open(r\"/content/PythonProject1/attend.jpeg\")\n",
        "print(img1.format, img1.size, img1.mode)\n",
        "print(img2.format, img2.size, img2.mode)\n",
        "\n",
        "img2= img2.resize((400,400))\n",
        "img1.paste(img2, (900,700))\n",
        "from PIL import Image\n",
        "from PIL import ImageFont\n",
        "from PIL import ImageDraw\n",
        "\n",
        "draw = ImageDraw.Draw(img1)\n",
        "# font = ImageFont.truetype(<font-file>, <font-size>)\n",
        "font = ImageFont.truetype(\"/content/PythonProject1/font_playfair.ttf\", 50)\n",
        "# draw.text((x, y),\"Sample Text\",(r,g,b))\n",
        "draw.text((850, 1180),\"Vijaykumar Sajjanar\",(0,0,0),font=font)\n",
        "\n",
        "img1.save('Final_Badge.jpg')"
      ],
      "metadata": {
        "id": "iWzvHAea_-wI",
        "colab": {
          "base_uri": "https://localhost:8080/"
        },
        "outputId": "655feac6-4fd8-4707-b435-c391e227629c"
      },
      "execution_count": 20,
      "outputs": [
        {
          "output_type": "stream",
          "name": "stdout",
          "text": [
            "JPEG (1131, 1600) RGB\n",
            "JPEG (864, 1152) RGB\n"
          ]
        }
      ]
    },
    {
      "cell_type": "code",
      "source": [],
      "metadata": {
        "id": "o5QqAgeGZXSS"
      },
      "execution_count": null,
      "outputs": []
    }
  ]
}